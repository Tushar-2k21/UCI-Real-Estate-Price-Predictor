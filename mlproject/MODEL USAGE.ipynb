{
 "cells": [
  {
   "cell_type": "code",
   "execution_count": 1,
   "id": "47108af1",
   "metadata": {},
   "outputs": [
    {
     "data": {
      "text/plain": [
       "array([24.32495353])"
      ]
     },
     "execution_count": 1,
     "metadata": {},
     "output_type": "execute_result"
    }
   ],
   "source": [
    "from joblib import dump , load\n",
    "import numpy as np\n",
    "model = load('real_estate_model.joblib')\n",
    "\n",
    "input_features = np.array([[-0.35832537,  0.1881775 , -0.757056  , -0.17496355, -0.29163455,\n",
    "        0.32736186, -0.36350186,  0.18065139, -0.71606981, -0.61684605,\n",
    "       -0.81906318,  0.36046655, -0.65872101]])\n",
    "\n",
    "\n",
    "\n",
    "model.predict(input_features)"
   ]
  }
 ],
 "metadata": {
  "kernelspec": {
   "display_name": "Python 3 (ipykernel)",
   "language": "python",
   "name": "python3"
  },
  "language_info": {
   "codemirror_mode": {
    "name": "ipython",
    "version": 3
   },
   "file_extension": ".py",
   "mimetype": "text/x-python",
   "name": "python",
   "nbconvert_exporter": "python",
   "pygments_lexer": "ipython3",
   "version": "3.11.0"
  }
 },
 "nbformat": 4,
 "nbformat_minor": 5
}
